{
 "cells": [
  {
   "cell_type": "code",
   "execution_count": null,
   "metadata": {
    "collapsed": true
   },
   "outputs": [],
   "source": [
    "#Input file can be found at following location\n",
    "#https://drive.google.com/file/d/0B6uUAXinoeZBZF9VRFlGOHVHMnc/view?usp=sharing"
   ]
  },
  {
   "cell_type": "code",
   "execution_count": 1,
   "metadata": {
    "collapsed": true
   },
   "outputs": [],
   "source": [
    "#Import Required Libraries\n",
    "import pandas as pd\n",
    "import numpy as np\n",
    "from sklearn.model_selection import train_test_split\n",
    "from sklearn import svm\n",
    "from sklearn.linear_model import LogisticRegression\n",
    "from sklearn.utils import shuffle\n",
    "from sklearn.metrics import confusion_matrix\n",
    "from sklearn.metrics import accuracy_score\n",
    "import matplotlib.pyplot as plt\n",
    "import seaborn as sns\n",
    "%matplotlib inline"
   ]
  },
  {
   "cell_type": "code",
   "execution_count": 2,
   "metadata": {
    "collapsed": false
   },
   "outputs": [],
   "source": [
    "#Load Input File \n",
    "#File contains information regarding flight delays for January, June, July, August, November, December month of 2016\n",
    "path = 'F:\\\\Study\\\\OneDrive - The University of Texas at Dallas\\\\02 Study\\\\12 Startup.ML\\\\Files\\\\Input_File\\\\'\n",
    "path_file = path+'flight_data.csv'\n",
    "flight_data = pd.read_csv(path_file)\n",
    " "
   ]
  },
  {
   "cell_type": "code",
   "execution_count": 3,
   "metadata": {
    "collapsed": false,
    "scrolled": true
   },
   "outputs": [
    {
     "data": {
      "text/html": [
       "<div>\n",
       "<table border=\"1\" class=\"dataframe\">\n",
       "  <thead>\n",
       "    <tr style=\"text-align: right;\">\n",
       "      <th></th>\n",
       "      <th>QUARTER</th>\n",
       "      <th>MONTH</th>\n",
       "      <th>DAY_OF_MONTH</th>\n",
       "      <th>DAY_OF_WEEK</th>\n",
       "      <th>FL_DATE</th>\n",
       "      <th>UNIQUE_CARRIER</th>\n",
       "      <th>FL_NUM</th>\n",
       "      <th>ORIGIN_AIRPORT_ID</th>\n",
       "      <th>ORIGIN_AIRPORT_SEQ_ID</th>\n",
       "      <th>ORIGIN_CITY_MARKET_ID</th>\n",
       "      <th>...</th>\n",
       "      <th>AIR_TIME</th>\n",
       "      <th>FLIGHTS</th>\n",
       "      <th>DISTANCE</th>\n",
       "      <th>CARRIER_DELAY</th>\n",
       "      <th>WEATHER_DELAY</th>\n",
       "      <th>NAS_DELAY</th>\n",
       "      <th>SECURITY_DELAY</th>\n",
       "      <th>LATE_AIRCRAFT_DELAY</th>\n",
       "      <th>FIRST_DEP_TIME</th>\n",
       "      <th>Unnamed: 42</th>\n",
       "    </tr>\n",
       "  </thead>\n",
       "  <tbody>\n",
       "    <tr>\n",
       "      <th>0</th>\n",
       "      <td>1</td>\n",
       "      <td>1</td>\n",
       "      <td>3</td>\n",
       "      <td>7</td>\n",
       "      <td>2016-01-03</td>\n",
       "      <td>F9</td>\n",
       "      <td>694</td>\n",
       "      <td>11292</td>\n",
       "      <td>1129202</td>\n",
       "      <td>30325</td>\n",
       "      <td>...</td>\n",
       "      <td>87.0</td>\n",
       "      <td>1.0</td>\n",
       "      <td>692.0</td>\n",
       "      <td>NaN</td>\n",
       "      <td>NaN</td>\n",
       "      <td>NaN</td>\n",
       "      <td>NaN</td>\n",
       "      <td>NaN</td>\n",
       "      <td>NaN</td>\n",
       "      <td>NaN</td>\n",
       "    </tr>\n",
       "    <tr>\n",
       "      <th>1</th>\n",
       "      <td>1</td>\n",
       "      <td>1</td>\n",
       "      <td>3</td>\n",
       "      <td>7</td>\n",
       "      <td>2016-01-03</td>\n",
       "      <td>F9</td>\n",
       "      <td>809</td>\n",
       "      <td>14027</td>\n",
       "      <td>1402702</td>\n",
       "      <td>34027</td>\n",
       "      <td>...</td>\n",
       "      <td>224.0</td>\n",
       "      <td>1.0</td>\n",
       "      <td>1679.0</td>\n",
       "      <td>19.0</td>\n",
       "      <td>0.0</td>\n",
       "      <td>0.0</td>\n",
       "      <td>0.0</td>\n",
       "      <td>0.0</td>\n",
       "      <td>NaN</td>\n",
       "      <td>NaN</td>\n",
       "    </tr>\n",
       "    <tr>\n",
       "      <th>2</th>\n",
       "      <td>1</td>\n",
       "      <td>1</td>\n",
       "      <td>3</td>\n",
       "      <td>7</td>\n",
       "      <td>2016-01-03</td>\n",
       "      <td>F9</td>\n",
       "      <td>907</td>\n",
       "      <td>15356</td>\n",
       "      <td>1535602</td>\n",
       "      <td>35356</td>\n",
       "      <td>...</td>\n",
       "      <td>60.0</td>\n",
       "      <td>1.0</td>\n",
       "      <td>373.0</td>\n",
       "      <td>NaN</td>\n",
       "      <td>NaN</td>\n",
       "      <td>NaN</td>\n",
       "      <td>NaN</td>\n",
       "      <td>NaN</td>\n",
       "      <td>NaN</td>\n",
       "      <td>NaN</td>\n",
       "    </tr>\n",
       "    <tr>\n",
       "      <th>3</th>\n",
       "      <td>1</td>\n",
       "      <td>1</td>\n",
       "      <td>3</td>\n",
       "      <td>7</td>\n",
       "      <td>2016-01-03</td>\n",
       "      <td>F9</td>\n",
       "      <td>908</td>\n",
       "      <td>14492</td>\n",
       "      <td>1449202</td>\n",
       "      <td>34492</td>\n",
       "      <td>...</td>\n",
       "      <td>57.0</td>\n",
       "      <td>1.0</td>\n",
       "      <td>373.0</td>\n",
       "      <td>NaN</td>\n",
       "      <td>NaN</td>\n",
       "      <td>NaN</td>\n",
       "      <td>NaN</td>\n",
       "      <td>NaN</td>\n",
       "      <td>NaN</td>\n",
       "      <td>NaN</td>\n",
       "    </tr>\n",
       "    <tr>\n",
       "      <th>4</th>\n",
       "      <td>1</td>\n",
       "      <td>1</td>\n",
       "      <td>3</td>\n",
       "      <td>7</td>\n",
       "      <td>2016-01-03</td>\n",
       "      <td>F9</td>\n",
       "      <td>915</td>\n",
       "      <td>15356</td>\n",
       "      <td>1535602</td>\n",
       "      <td>35356</td>\n",
       "      <td>...</td>\n",
       "      <td>107.0</td>\n",
       "      <td>1.0</td>\n",
       "      <td>693.0</td>\n",
       "      <td>2.0</td>\n",
       "      <td>0.0</td>\n",
       "      <td>18.0</td>\n",
       "      <td>0.0</td>\n",
       "      <td>0.0</td>\n",
       "      <td>NaN</td>\n",
       "      <td>NaN</td>\n",
       "    </tr>\n",
       "  </tbody>\n",
       "</table>\n",
       "<p>5 rows × 43 columns</p>\n",
       "</div>"
      ],
      "text/plain": [
       "   QUARTER  MONTH  DAY_OF_MONTH  DAY_OF_WEEK     FL_DATE UNIQUE_CARRIER  \\\n",
       "0        1      1             3            7  2016-01-03             F9   \n",
       "1        1      1             3            7  2016-01-03             F9   \n",
       "2        1      1             3            7  2016-01-03             F9   \n",
       "3        1      1             3            7  2016-01-03             F9   \n",
       "4        1      1             3            7  2016-01-03             F9   \n",
       "\n",
       "   FL_NUM  ORIGIN_AIRPORT_ID  ORIGIN_AIRPORT_SEQ_ID  ORIGIN_CITY_MARKET_ID  \\\n",
       "0     694              11292                1129202                  30325   \n",
       "1     809              14027                1402702                  34027   \n",
       "2     907              15356                1535602                  35356   \n",
       "3     908              14492                1449202                  34492   \n",
       "4     915              15356                1535602                  35356   \n",
       "\n",
       "      ...     AIR_TIME FLIGHTS DISTANCE CARRIER_DELAY  WEATHER_DELAY  \\\n",
       "0     ...         87.0     1.0    692.0           NaN            NaN   \n",
       "1     ...        224.0     1.0   1679.0          19.0            0.0   \n",
       "2     ...         60.0     1.0    373.0           NaN            NaN   \n",
       "3     ...         57.0     1.0    373.0           NaN            NaN   \n",
       "4     ...        107.0     1.0    693.0           2.0            0.0   \n",
       "\n",
       "   NAS_DELAY  SECURITY_DELAY LATE_AIRCRAFT_DELAY FIRST_DEP_TIME Unnamed: 42  \n",
       "0        NaN             NaN                 NaN            NaN         NaN  \n",
       "1        0.0             0.0                 0.0            NaN         NaN  \n",
       "2        NaN             NaN                 NaN            NaN         NaN  \n",
       "3        NaN             NaN                 NaN            NaN         NaN  \n",
       "4       18.0             0.0                 0.0            NaN         NaN  \n",
       "\n",
       "[5 rows x 43 columns]"
      ]
     },
     "execution_count": 3,
     "metadata": {},
     "output_type": "execute_result"
    }
   ],
   "source": [
    "flight_data.head()\n"
   ]
  },
  {
   "cell_type": "code",
   "execution_count": 4,
   "metadata": {
    "collapsed": false
   },
   "outputs": [
    {
     "name": "stdout",
     "output_type": "stream",
     "text": [
      "(2846155, 43)\n"
     ]
    }
   ],
   "source": [
    "print(flight_data.shape)"
   ]
  },
  {
   "cell_type": "code",
   "execution_count": 6,
   "metadata": {
    "collapsed": true
   },
   "outputs": [],
   "source": [
    "#Create a Variable called Delayed, Flight is considered to be delayed if arrival delay is more than or equal to 15 minutes\n",
    "flight_data['Delayed'] = np.where(flight_data['ARR_DELAY'] >=15, 1,0)"
   ]
  },
  {
   "cell_type": "code",
   "execution_count": 15,
   "metadata": {
    "collapsed": false
   },
   "outputs": [
    {
     "data": {
      "image/png": "[encoded data removed]",
      "text/plain": [
       "<matplotlib.figure.Figure at 0x1d0806ba5f8>"
      ]
     },
     "metadata": {},
     "output_type": "display_data"
    }
   ],
   "source": [
    "#Distribution of Number of flights Delayed\n",
    "is_delayed = flight_data['Delayed'].value_counts()\n",
    "\n",
    "plt.figure(figsize=(8,4))\n",
    "color = sns.color_palette()\n",
    "sns.barplot(is_delayed.index, is_delayed.values, alpha=0.8, color=color[1])\n",
    "plt.ylabel('Number of Flights Delayed', fontsize=12)\n",
    "plt.xlabel('Is Delayed', fontsize=12)\n",
    "plt.show()\n",
    "\n"
   ]
  },
  {
   "cell_type": "code",
   "execution_count": 16,
   "metadata": {
    "collapsed": false
   },
   "outputs": [
    {
     "name": "stdout",
     "output_type": "stream",
     "text": [
      "550729\n",
      "550729\n",
      "Percentage of Flights Delayed for More Than 15 Minutes:  19.35%\n"
     ]
    }
   ],
   "source": [
    "#percentage of flights delayed (arrival time more than or equal to 15minutes)\n",
    "print (flight_data['ARR_DELAY'][flight_data['ARR_DELAY'] >= 15].count())\n",
    "print (flight_data.shape[0] - flight_data.CARRIER_DELAY.isnull().sum().sum())\n",
    "flight_delay =flight_data['ARR_DELAY'][flight_data['ARR_DELAY'] >= 15].count()/flight_data.shape[0]\n",
    "print(\"Percentage of Flights Delayed for More Than 15 Minutes:  {:.2%}\".format(flight_delay))"
   ]
  },
  {
   "cell_type": "code",
   "execution_count": 4,
   "metadata": {
    "collapsed": false
   },
   "outputs": [
    {
     "data": {
      "text/plain": [
       "<matplotlib.axes._subplots.AxesSubplot at 0x1698024a780>"
      ]
     },
     "execution_count": 4,
     "metadata": {},
     "output_type": "execute_result"
    },
    {
     "data": {
      "image/png": "[encoded data removed]",
      "text/plain": [
       "<matplotlib.figure.Figure at 0x16982563080>"
      ]
     },
     "metadata": {},
     "output_type": "display_data"
    }
   ],
   "source": [
    "#Data Exploration\n",
    "#Distribution of flight speed as speed of aircraft can cause arrival delay \n",
    "flight_data['FLIGHT_SPEED'] = 60*flight_data['DISTANCE']/flight_data['AIR_TIME']\n",
    "flight_data[['UNIQUE_CARRIER','FLIGHT_SPEED']].boxplot(column = 'FLIGHT_SPEED',by='UNIQUE_CARRIER',figsize=(13,7),rot=45)"
   ]
  },
  {
   "cell_type": "code",
   "execution_count": 26,
   "metadata": {
    "collapsed": false
   },
   "outputs": [
    {
     "data": {
      "text/plain": [
       "[<matplotlib.text.Text at 0x1d0bdaadb38>]"
      ]
     },
     "execution_count": 26,
     "metadata": {},
     "output_type": "execute_result"
    },
    {
     "data": {
      "image/png": "[encoded data removed]",
      "text/plain": [
       "<matplotlib.figure.Figure at 0x1d0bda73438>"
      ]
     },
     "metadata": {},
     "output_type": "display_data"
    }
   ],
   "source": [
    "#Arrival and Departure Delay\n",
    "df_delay = pd.DataFrame(flight_data.groupby('UNIQUE_CARRIER')[['ARR_DELAY','DEP_DELAY']].mean())\n",
    "df_delay.sort_values(['ARR_DELAY','DEP_DELAY'],ascending = [1,1],inplace=True)\n",
    "plt.figure(figsize=(12,7))\n",
    "sns.set_color_codes(\"deep\")\n",
    "sns.set_context(font_scale=2.5)\n",
    "plot = sns.barplot(x='DEP_DELAY',y=df_delay.index,data = df_delay,color = 'r')\n",
    "plot = sns.barplot(x='ARR_DELAY',y=df_delay.index,data = df_delay,color = 'b')\n",
    "plot.set(xlabel='Mean flight delays (Arrival : Blue,Departure : Red)')"
   ]
  },
  {
   "cell_type": "code",
   "execution_count": 7,
   "metadata": {
    "collapsed": false
   },
   "outputs": [
    {
     "name": "stdout",
     "output_type": "stream",
     "text": [
      "Shape of Flight data with null values:  (2846155, 14)\n",
      "Shape of flight data without null values: (2796517, 14)\n"
     ]
    },
    {
     "data": {
      "text/plain": [
       "(2796517, 25)"
      ]
     },
     "execution_count": 7,
     "metadata": {},
     "output_type": "execute_result"
    }
   ],
   "source": [
    "#Filter data for model building\n",
    "flight_data_filtered = flight_data[['MONTH', 'DAY_OF_MONTH', 'UNIQUE_CARRIER', 'FL_NUM', 'ORIGIN_AIRPORT_ID', 'DEST_AIRPORT_ID', 'CRS_DEP_TIME', 'DEP_TIME', 'CRS_ARR_TIME','Delayed', 'CRS_ELAPSED_TIME', 'AIR_TIME', 'FLIGHTS', 'DISTANCE']]\n",
    "print(\"Shape of Flight data with null values: \",flight_data_filtered.shape)\n",
    "#Drop null values from the data\n",
    "flight_data_filtered = flight_data_filtered.dropna()\n",
    "print(\"Shape of flight data without null values:\", flight_data_filtered.shape)\n",
    "flight_data_filtered_dummy = pd.get_dummies(flight_data_filtered)\n",
    "flight_data_shuffle = shuffle(flight_data_filtered_dummy)\n",
    "flight_data_shuffle.shape\n"
   ]
  },
  {
   "cell_type": "code",
   "execution_count": 25,
   "metadata": {
    "collapsed": true
   },
   "outputs": [],
   "source": [
    "#Split data into test and train dataset\n",
    "y = flight_data_shuffle['Delayed']\n",
    "x = flight_data_shuffle.drop('Delayed',1)\n",
    "X_train, X_test, y_train, y_test = train_test_split(x, y, test_size=0.2, random_state=42)\n"
   ]
  },
  {
   "cell_type": "code",
   "execution_count": 26,
   "metadata": {
    "collapsed": false
   },
   "outputs": [
    {
     "name": "stdout",
     "output_type": "stream",
     "text": [
      "Training Dataset independent vairable: (2237213, 24)\n",
      "Training Dataset dependent vairable: (2237213,)\n",
      "Test Dataset independent vairable: (559304, 24)\n",
      "Test Dataset dependent vairable: (559304,)\n"
     ]
    }
   ],
   "source": [
    "print(\"Training Dataset independent vairable:\",X_train.shape)\n",
    "print(\"Training Dataset dependent vairable:\",y_train.shape)\n",
    "print(\"Test Dataset independent vairable:\",X_test.shape)\n",
    "print(\"Test Dataset dependent vairable:\",y_test.shape)"
   ]
  },
  {
   "cell_type": "markdown",
   "metadata": {},
   "source": [
    "# New Approach: models are built using different approaches as follows \n",
    "    \n",
    "    1. Iterative Approach : data is passed in chunks to the logistic regressor (approach previously used)\n",
    "    2. By using full dataset\n",
    "    3. Last 1000 records\n",
    "    4. len(dataset) -2000 to len(dataset) - 1000 records\n",
    "    5. In between 1000 records (starting number is choosen randomly)"
   ]
  },
  {
   "cell_type": "code",
   "execution_count": 29,
   "metadata": {
    "collapsed": false
   },
   "outputs": [
    {
     "name": "stdout",
     "output_type": "stream",
     "text": [
      "Iterative Model Training Done!\n",
      "Confusion Matrix:\n",
      " [[431023  17923]\n",
      " [ 25402  84956]]\n",
      "Accuracy Score with iterative approach:  0.922537653941\n"
     ]
    }
   ],
   "source": [
    "#Train Logistic Model\n",
    "\n",
    "#With Iterative apporach\n",
    "logistic = LogisticRegression()\n",
    "count = 0\n",
    "model_iteraction = 0\n",
    "while count < len(X_train):\n",
    "    test_data_x = X_train[count:count+1000]\n",
    "    test_data_y = y_train[count:count+1000]\n",
    "    count = count + 1000\n",
    "    #print(\"Training Model iteration \"+str(model_iteraction))\n",
    "    logistic.fit(test_data_x,test_data_y)\n",
    "    model_iteraction +=1\n",
    "    \n",
    "print(\"Iterative Model Training Done!\") \n",
    "\n",
    "final_logistic = logistic.predict(X_test)\n",
    "final_logistic = pd.DataFrame(final_logistic)\n",
    "matrix = confusion_matrix(y_test, final_logistic)\n",
    "print(\"Confusion Matrix:\\n\",matrix)\n",
    "print(\"Accuracy Score with iterative approach: \",accuracy_score(y_test,final_logistic))"
   ]
  },
  {
   "cell_type": "code",
   "execution_count": 30,
   "metadata": {
    "collapsed": false
   },
   "outputs": [
    {
     "name": "stdout",
     "output_type": "stream",
     "text": [
      "Full Data Model Training Done!\n",
      "Confusion Matrix:\n",
      " [[448368    578]\n",
      " [ 89992  20366]]\n",
      "Accuracy Score with full dataset:  0.838066597056\n"
     ]
    }
   ],
   "source": [
    "# With Full Dataset\n",
    "logistic_full = LogisticRegression()\n",
    "logistic_full.fit(X_train,y_train)    \n",
    "print(\"Full Data Model Training Done!\")  \n",
    "\n",
    "\n",
    "final_logistic = logistic_full.predict(X_test)\n",
    "final_logistic = pd.DataFrame(final_logistic)\n",
    "matrix = confusion_matrix(y_test, final_logistic)\n",
    "print(\"Confusion Matrix:\\n\",matrix)\n",
    "print(\"Accuracy Score with full dataset: \",accuracy_score(y_test,final_logistic))"
   ]
  },
  {
   "cell_type": "code",
   "execution_count": 31,
   "metadata": {
    "collapsed": false
   },
   "outputs": [
    {
     "name": "stdout",
     "output_type": "stream",
     "text": [
      "last 1000 Model Training Done!\n",
      "Confusion Matrix:\n",
      " [[443486   5460]\n",
      " [ 44878  65480]]\n",
      "Accuracy Score with last 1000 approach:  0.909998855721\n",
      "last 2000 Model Training Done!\n",
      "Confusion Matrix:\n",
      " [[448440    506]\n",
      " [103971   6387]]\n",
      "Accuracy Score with last 2000 approach:  0.813201765051\n"
     ]
    }
   ],
   "source": [
    "#Last 1000 records\n",
    "logistic_1000 = LogisticRegression()\n",
    "test_data_x = X_train[2236213:]\n",
    "test_data_y = y_train[2236213:]\n",
    "logistic_1000.fit(test_data_x,test_data_y)\n",
    "    \n",
    "print(\"last 1000 Model Training Done!\") \n",
    "\n",
    "final_logistic = logistic_1000.predict(X_test)\n",
    "final_logistic = pd.DataFrame(final_logistic)\n",
    "matrix = confusion_matrix(y_test, final_logistic)\n",
    "print(\"Confusion Matrix:\\n\",matrix)\n",
    "print(\"Accuracy Score with last 1000 approach: \",accuracy_score(y_test,final_logistic))\n",
    "\n",
    "\n",
    "#Last 2000 records\n",
    "logistic_2000 = LogisticRegression()\n",
    "test_data_x = X_train[2235213:2236213]\n",
    "test_data_y = y_train[2235213:2236213]\n",
    "logistic_2000.fit(test_data_x,test_data_y)\n",
    "    \n",
    "print(\"last 2000 Model Training Done!\") \n",
    "\n",
    "final_logistic = logistic_2000.predict(X_test)\n",
    "final_logistic = pd.DataFrame(final_logistic)\n",
    "matrix = confusion_matrix(y_test, final_logistic)\n",
    "print(\"Confusion Matrix:\\n\",matrix)\n",
    "print(\"Accuracy Score with last 2000 approach: \",accuracy_score(y_test,final_logistic))\n",
    "\n",
    "\n"
   ]
  },
  {
   "cell_type": "code",
   "execution_count": 33,
   "metadata": {
    "collapsed": false
   },
   "outputs": [
    {
     "name": "stdout",
     "output_type": "stream",
     "text": [
      "last 2000 Model Training Done!\n",
      "Confusion Matrix:\n",
      " [[448440    506]\n",
      " [103971   6387]]\n",
      "Accuracy Score with random 1000 approach:  0.813201765051\n"
     ]
    }
   ],
   "source": [
    "#another 1000 records\n",
    "logistic_random = LogisticRegression()\n",
    "test_data_x = X_train[2225213:2226213]\n",
    "test_data_y = y_train[2235213:2236213]\n",
    "logistic_random.fit(test_data_x,test_data_y)\n",
    "    \n",
    "print(\"last 2000 Model Training Done!\") \n",
    "\n",
    "final_logistic = logistic_2000.predict(X_test)\n",
    "final_logistic = pd.DataFrame(final_logistic)\n",
    "matrix = confusion_matrix(y_test, final_logistic)\n",
    "print(\"Confusion Matrix:\\n\",matrix)\n",
    "print(\"Accuracy Score with random 1000 approach: \",accuracy_score(y_test,final_logistic))"
   ]
  },
  {
   "cell_type": "code",
   "execution_count": 34,
   "metadata": {
    "collapsed": false
   },
   "outputs": [
    {
     "name": "stdout",
     "output_type": "stream",
     "text": [
      "Iterative Model-10000 Training Done!\n",
      "Confusion Matrix:\n",
      " [[447495   1451]\n",
      " [ 96871  13487]]\n",
      "Accuracy Score with iterative approach- 10000:  0.82420651381\n"
     ]
    }
   ],
   "source": [
    "#Iterative approach with 10000 records\n",
    "logistic_10000 = LogisticRegression()\n",
    "count = 0\n",
    "model_iteraction = 0\n",
    "while count < len(X_train):\n",
    "    test_data_x = X_train[count:count+10000]\n",
    "    test_data_y = y_train[count:count+10000]\n",
    "    count = count + 10000\n",
    "    #print(\"Training Model iteration \"+str(model_iteraction))\n",
    "    logistic_10000.fit(test_data_x,test_data_y)\n",
    "    model_iteraction +=1\n",
    "    \n",
    "print(\"Iterative Model-10000 Training Done!\") \n",
    "\n",
    "final_logistic = logistic_10000.predict(X_test)\n",
    "final_logistic = pd.DataFrame(final_logistic)\n",
    "matrix = confusion_matrix(y_test, final_logistic)\n",
    "print(\"Confusion Matrix:\\n\",matrix)\n",
    "print(\"Accuracy Score with iterative approach- 10000: \",accuracy_score(y_test,final_logistic))"
   ]
  },
  {
   "cell_type": "raw",
   "metadata": {},
   "source": [
    "From the results of above different models, I feel that the initial approach built the model iteratively."
   ]
  }
 ],
 "metadata": {
  "kernelspec": {
   "display_name": "Python 3",
   "language": "python",
   "name": "python3"
  },
  "language_info": {
   "codemirror_mode": {
    "name": "ipython",
    "version": 3
   },
   "file_extension": ".py",
   "mimetype": "text/x-python",
   "name": "python",
   "nbconvert_exporter": "python",
   "pygments_lexer": "ipython3",
   "version": "3.6.0"
  }
 },
 "nbformat": 4,
 "nbformat_minor": 2
}
